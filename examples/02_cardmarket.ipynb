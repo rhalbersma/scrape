{
 "metadata": {
  "language_info": {
   "codemirror_mode": {
    "name": "ipython",
    "version": 3
   },
   "file_extension": ".py",
   "mimetype": "text/x-python",
   "name": "python",
   "nbconvert_exporter": "python",
   "pygments_lexer": "ipython3",
   "version": "3.8.2-final"
  },
  "orig_nbformat": 2,
  "kernelspec": {
   "name": "Python 3.8.2 64-bit ('.env': venv)",
   "display_name": "Python 3.8.2 64-bit ('.env': venv)",
   "metadata": {
    "interpreter": {
     "hash": "688204a0fbcb17537bba0246e451e2e38b7531049936a9be696b0802eda87015"
    }
   }
  }
 },
 "nbformat": 4,
 "nbformat_minor": 2,
 "cells": [
  {
   "source": [
    "```\n",
    "         Copyright Rein Halbersma 2020-2021.\n",
    "Distributed under the Boost Software License, Version 1.0.\n",
    "   (See accompanying file LICENSE_1_0.txt or copy at\n",
    "         http://www.boost.org/LICENSE_1_0.txt)\n",
    "```"
   ],
   "cell_type": "markdown",
   "metadata": {}
  },
  {
   "cell_type": "code",
   "execution_count": 1,
   "metadata": {},
   "outputs": [],
   "source": [
    "import scrape.cardmarket as cm"
   ]
  },
  {
   "cell_type": "code",
   "execution_count": 2,
   "metadata": {
    "tags": []
   },
   "outputs": [
    {
     "output_type": "stream",
     "name": "stderr",
     "text": "100%|██████████| 23/23 [01:13&lt;00:00,  3.20s/it]\n"
    }
   ],
   "source": [
    "df = cm.search_products(searchString='Forest')"
   ]
  },
  {
   "cell_type": "code",
   "execution_count": 3,
   "metadata": {
    "tags": []
   },
   "outputs": [
    {
     "output_type": "stream",
     "name": "stdout",
     "text": "&lt;class &#39;pandas.core.frame.DataFrame&#39;&gt;\nRangeIndex: 690 entries, 0 to 689\nData columns (total 6 columns):\n #   Column     Non-Null Count  Dtype \n---  ------     --------------  ----- \n 0   Title      687 non-null    object\n 1   Name       690 non-null    object\n 2   Rarity     648 non-null    object\n 3   Number     504 non-null    object\n 4   Available  690 non-null    int64 \n 5   From       690 non-null    object\ndtypes: int64(1), object(5)\nmemory usage: 32.5+ KB\n"
    }
   ],
   "source": [
    "df.info()"
   ]
  },
  {
   "cell_type": "code",
   "execution_count": 4,
   "metadata": {},
   "outputs": [
    {
     "output_type": "execute_result",
     "data": {
      "text/plain": "                 Title                 Name Rarity Number  Available    From\n0      Zendikar Rising         Forest (V.3)   Land    280       9757  0,02 €\n1      Zendikar Rising         Forest (V.1)   Land    278      11142  0,02 €\n2  Theros Beyond Death               Forest   Land    254      14998  0,02 €\n3      Modern Horizons  Snow-Covered Forest   Land    254      22594  0,05 €\n4      Zendikar Rising         Forest (V.2)   Land    279      12153  0,02 €",
      "text/html": "<div>\n<style scoped>\n    .dataframe tbody tr th:only-of-type {\n        vertical-align: middle;\n    }\n\n    .dataframe tbody tr th {\n        vertical-align: top;\n    }\n\n    .dataframe thead th {\n        text-align: right;\n    }\n</style>\n<table border=\"1\" class=\"dataframe\">\n  <thead>\n    <tr style=\"text-align: right;\">\n      <th></th>\n      <th>Title</th>\n      <th>Name</th>\n      <th>Rarity</th>\n      <th>Number</th>\n      <th>Available</th>\n      <th>From</th>\n    </tr>\n  </thead>\n  <tbody>\n    <tr>\n      <th>0</th>\n      <td>Zendikar Rising</td>\n      <td>Forest (V.3)</td>\n      <td>Land</td>\n      <td>280</td>\n      <td>9757</td>\n      <td>0,02 €</td>\n    </tr>\n    <tr>\n      <th>1</th>\n      <td>Zendikar Rising</td>\n      <td>Forest (V.1)</td>\n      <td>Land</td>\n      <td>278</td>\n      <td>11142</td>\n      <td>0,02 €</td>\n    </tr>\n    <tr>\n      <th>2</th>\n      <td>Theros Beyond Death</td>\n      <td>Forest</td>\n      <td>Land</td>\n      <td>254</td>\n      <td>14998</td>\n      <td>0,02 €</td>\n    </tr>\n    <tr>\n      <th>3</th>\n      <td>Modern Horizons</td>\n      <td>Snow-Covered Forest</td>\n      <td>Land</td>\n      <td>254</td>\n      <td>22594</td>\n      <td>0,05 €</td>\n    </tr>\n    <tr>\n      <th>4</th>\n      <td>Zendikar Rising</td>\n      <td>Forest (V.2)</td>\n      <td>Land</td>\n      <td>279</td>\n      <td>12153</td>\n      <td>0,02 €</td>\n    </tr>\n  </tbody>\n</table>\n</div>"
     },
     "metadata": {},
     "execution_count": 4
    }
   ],
   "source": [
    "df.head()"
   ]
  },
  {
   "cell_type": "code",
   "execution_count": 5,
   "metadata": {},
   "outputs": [
    {
     "output_type": "execute_result",
     "data": {
      "text/plain": "                            Title                                      Name  \\\n685  Magic the Gathering Products                 Celestial Forest Life Pad   \n686      Kraken Wargames Playmats  Kraken Wargames Playmats: Forest Playmat   \n687                      Unstable        Unstable: &quot;Forest&quot; 9-Pocket Binder   \n688       Zendikar Rising: Extras                  Art Series: Forest (V.4)   \n689       Zendikar Rising: Extras                  Art Series: Forest (V.6)   \n\n       Rarity Number  Available     From  \n685      None   None         46   3,49 €  \n686      None   None          3  17,99 €  \n687      None   None         61  19,95 €  \n688  Tip Card    A20         62   1,00 €  \n689  Tip Card    A21         59   1,90 €  ",
      "text/html": "<div>\n<style scoped>\n    .dataframe tbody tr th:only-of-type {\n        vertical-align: middle;\n    }\n\n    .dataframe tbody tr th {\n        vertical-align: top;\n    }\n\n    .dataframe thead th {\n        text-align: right;\n    }\n</style>\n<table border=\"1\" class=\"dataframe\">\n  <thead>\n    <tr style=\"text-align: right;\">\n      <th></th>\n      <th>Title</th>\n      <th>Name</th>\n      <th>Rarity</th>\n      <th>Number</th>\n      <th>Available</th>\n      <th>From</th>\n    </tr>\n  </thead>\n  <tbody>\n    <tr>\n      <th>685</th>\n      <td>Magic the Gathering Products</td>\n      <td>Celestial Forest Life Pad</td>\n      <td>None</td>\n      <td>None</td>\n      <td>46</td>\n      <td>3,49 €</td>\n    </tr>\n    <tr>\n      <th>686</th>\n      <td>Kraken Wargames Playmats</td>\n      <td>Kraken Wargames Playmats: Forest Playmat</td>\n      <td>None</td>\n      <td>None</td>\n      <td>3</td>\n      <td>17,99 €</td>\n    </tr>\n    <tr>\n      <th>687</th>\n      <td>Unstable</td>\n      <td>Unstable: \"Forest\" 9-Pocket Binder</td>\n      <td>None</td>\n      <td>None</td>\n      <td>61</td>\n      <td>19,95 €</td>\n    </tr>\n    <tr>\n      <th>688</th>\n      <td>Zendikar Rising: Extras</td>\n      <td>Art Series: Forest (V.4)</td>\n      <td>Tip Card</td>\n      <td>A20</td>\n      <td>62</td>\n      <td>1,00 €</td>\n    </tr>\n    <tr>\n      <th>689</th>\n      <td>Zendikar Rising: Extras</td>\n      <td>Art Series: Forest (V.6)</td>\n      <td>Tip Card</td>\n      <td>A21</td>\n      <td>59</td>\n      <td>1,90 €</td>\n    </tr>\n  </tbody>\n</table>\n</div>"
     },
     "metadata": {},
     "execution_count": 5
    }
   ],
   "source": [
    "df.tail()"
   ]
  }
 ]
}