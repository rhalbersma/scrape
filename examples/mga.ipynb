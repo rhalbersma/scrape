{
 "metadata": {
  "language_info": {
   "codemirror_mode": {
    "name": "ipython",
    "version": 3
   },
   "file_extension": ".py",
   "mimetype": "text/x-python",
   "name": "python",
   "nbconvert_exporter": "python",
   "pygments_lexer": "ipython3",
   "version": "3.8.2-final"
  },
  "orig_nbformat": 2,
  "kernelspec": {
   "name": "Python 3.8.2 64-bit ('.env': venv)",
   "display_name": "Python 3.8.2 64-bit ('.env': venv)",
   "metadata": {
    "interpreter": {
     "hash": "688204a0fbcb17537bba0246e451e2e38b7531049936a9be696b0802eda87015"
    }
   }
  }
 },
 "nbformat": 4,
 "nbformat_minor": 2,
 "cells": [
  {
   "source": [
    "```\n",
    "         Copyright Rein Halbersma 2020.\n",
    "Distributed under the Boost Software License, Version 1.0.\n",
    "   (See accompanying file LICENSE_1_0.txt or copy at\n",
    "         http://www.boost.org/LICENSE_1_0.txt)\n",
    "```"
   ],
   "cell_type": "markdown",
   "metadata": {}
  },
  {
   "cell_type": "code",
   "execution_count": 1,
   "metadata": {},
   "outputs": [],
   "source": [
    "import numpy as np\n",
    "import pandas as pd\n",
    "from tqdm import tqdm\n",
    "\n",
    "import scrape.mga as mga"
   ]
  },
  {
   "source": [
    "## 0) Fetching register information without search clauses:"
   ],
   "cell_type": "markdown",
   "metadata": {}
  },
  {
   "cell_type": "code",
   "execution_count": 2,
   "metadata": {},
   "outputs": [],
   "source": [
    "register_empty = (mga.fetch_register()\n",
    "    .drop_duplicates()\n",
    "    .assign(CompanySeal = lambda x: x.CompanySeal.str.split('=').str[-1])\n",
    "    .replace('', np.nan)\n",
    "    .sort_values('CompanyName')\n",
    "    .reset_index(drop=True)\n",
    ")"
   ]
  },
  {
   "source": [
    "## Fetching all menu options for the 4 search clauses:"
   ],
   "cell_type": "markdown",
   "metadata": {}
  },
  {
   "cell_type": "code",
   "execution_count": 3,
   "metadata": {},
   "outputs": [],
   "source": [
    "licensees, statuses, services, urls = mga.fetch_menus()"
   ]
  },
  {
   "source": [
    "## 1) Fetching register information from all licensees:"
   ],
   "cell_type": "markdown",
   "metadata": {}
  },
  {
   "cell_type": "code",
   "execution_count": 4,
   "metadata": {
    "tags": []
   },
   "outputs": [
    {
     "output_type": "stream",
     "name": "stderr",
     "text": " 49%|████▊     | 197/406 [09:32&lt;09:25,  2.71s/it]&#39;NoneType&#39; object has no attribute &#39;find_next_sibling&#39;: L&amp;L Europe Limited -  -  - \n 58%|█████▊    | 235/406 [11:23&lt;07:47,  2.74s/it]&#39;NoneType&#39; object has no attribute &#39;find_next_sibling&#39;: Morpheus Games (MT) -  -  - \n 80%|███████▉  | 324/406 [15:43&lt;03:46,  2.76s/it]&#39;NoneType&#39; object has no attribute &#39;find_next_sibling&#39;: Scout &amp; Co. Limited -  -  - \n100%|██████████| 406/406 [19:43&lt;00:00,  2.91s/it]\n"
    }
   ],
   "source": [
    "register_licensees = (pd\n",
    "    .concat([\n",
    "        mga.fetch_register(Licensee=licensee.CompanyName)\n",
    "        for licensee in tqdm(licensees.itertuples(), total=licensees.shape[0])\n",
    "    ])\n",
    "    .drop_duplicates()\n",
    "    .assign(CompanySeal = lambda x: x.CompanySeal.str.split('=').str[-1])\n",
    "    .replace('', np.nan)\n",
    "    .sort_values('CompanyName')\n",
    "    .reset_index(drop=True)\n",
    ")"
   ]
  },
  {
   "source": [
    "## 2) Fetching register information from all gaming service types:"
   ],
   "cell_type": "markdown",
   "metadata": {}
  },
  {
   "cell_type": "code",
   "execution_count": 5,
   "metadata": {
    "tags": []
   },
   "outputs": [
    {
     "output_type": "stream",
     "name": "stderr",
     "text": "100%|██████████| 2/2 [00:34&lt;00:00, 17.34s/it]\n"
    }
   ],
   "source": [
    "register_services = (pd\n",
    "    .concat([\n",
    "        mga.fetch_register(Class=service.GamingService)\n",
    "        for service in tqdm(services.itertuples(), total=services.shape[0])\n",
    "    ])\n",
    "    .drop_duplicates()\n",
    "    .assign(CompanySeal = lambda x: x.CompanySeal.str.split('=').str[-1])\n",
    "    .replace('', np.nan)\n",
    "    .sort_values('CompanyName')\n",
    "    .reset_index(drop=True)\n",
    ")"
   ]
  },
  {
   "source": [
    "## 3) Fetching register information from all status types:"
   ],
   "cell_type": "markdown",
   "metadata": {}
  },
  {
   "cell_type": "code",
   "execution_count": 6,
   "metadata": {
    "tags": []
   },
   "outputs": [
    {
     "output_type": "stream",
     "name": "stderr",
     "text": "100%|██████████| 7/7 [00:48&lt;00:00,  6.88s/it]\n"
    }
   ],
   "source": [
    "register_statuses = (pd\n",
    "    .concat([\n",
    "        mga.fetch_register(Status=status.Status)\n",
    "        for status in tqdm(statuses.itertuples(), total=statuses.shape[0])\n",
    "    ])\n",
    "    .drop_duplicates()\n",
    "    .assign(CompanySeal = lambda x: x.CompanySeal.str.split('=').str[-1])\n",
    "    .replace('', np.nan)\n",
    "    .sort_values('CompanyName')\n",
    "    .reset_index(drop=True)\n",
    ")"
   ]
  },
  {
   "source": [
    "## 4) Fetching register information from all URLs:"
   ],
   "cell_type": "markdown",
   "metadata": {}
  },
  {
   "cell_type": "code",
   "execution_count": 7,
   "metadata": {
    "tags": []
   },
   "outputs": [
    {
     "output_type": "stream",
     "name": "stderr",
     "text": " 85%|████████▍ | 546/644 [26:40&lt;04:29,  2.75s/it]&#39;NoneType&#39; object has no attribute &#39;find_next_sibling&#39;:  -  -  - https://at.hpybet.com/#/home?_k=cj8mfc\n 86%|████████▌ | 554/644 [27:03&lt;04:02,  2.69s/it]&#39;NoneType&#39; object has no attribute &#39;find_next_sibling&#39;:  -  -  - https://de.hpybet.com/#/home\n100%|██████████| 644/644 [31:26&lt;00:00,  2.93s/it]\n"
    }
   ],
   "source": [
    "register_urls = (pd\n",
    "    .concat([\n",
    "        mga.fetch_register(URL=url.URL)\n",
    "        for url in tqdm(urls.itertuples(), total=urls.shape[0])\n",
    "    ])\n",
    "    .drop_duplicates()\n",
    "    .assign(CompanySeal = lambda x: x.CompanySeal.str.split('=').str[-1])\n",
    "    .replace('', np.nan)\n",
    "    .sort_values('CompanyName')\n",
    "    .reset_index(drop=True)\n",
    ")"
   ]
  },
  {
   "source": [
    "## Combine all unique entries in the 5 register versions found so far:"
   ],
   "cell_type": "markdown",
   "metadata": {}
  },
  {
   "cell_type": "code",
   "execution_count": 8,
   "metadata": {},
   "outputs": [],
   "source": [
    "register = (pd\n",
    "    .concat([\n",
    "        register_empty,\n",
    "        register_licensees,\n",
    "        register_statuses,\n",
    "        register_services,\n",
    "        register_urls\n",
    "    ])\n",
    "    .drop_duplicates()\n",
    "    .sort_values('CompanyName')\n",
    "    .reset_index(drop=True)\n",
    ")\n",
    "companies = mga.eval_companies(register)"
   ]
  },
  {
   "source": [
    "## Fetching linked companies from all companies:"
   ],
   "cell_type": "markdown",
   "metadata": {}
  },
  {
   "cell_type": "code",
   "execution_count": 9,
   "metadata": {
    "tags": []
   },
   "outputs": [
    {
     "output_type": "stream",
     "name": "stderr",
     "text": "100%|██████████| 403/403 [18:41&lt;00:00,  2.78s/it]\n"
    }
   ],
   "source": [
    "linked_companies = (pd\n",
    "    .concat([\n",
    "        mga.fetch_linked_companies(company)\n",
    "        for company in tqdm(companies.itertuples(), total=companies.shape[0])\n",
    "    ])\n",
    "    .merge(\n",
    "        companies,\n",
    "        how='outer',\n",
    "        left_on='LinkedSeal',\n",
    "        right_on='CompanySeal',\n",
    "        suffixes=('', '_y'),\n",
    "        indicator=True\n",
    "    )\n",
    "    .rename(columns={'_merge': 'LinkType'})\n",
    "    # If the linked company was not present in the MGA Licensee Register, it is a daughter company.\n",
    "    .replace({'LinkType': {\n",
    "        'left_only': 'daughter'\n",
    "    }})\n",
    "    .assign(LinkType = lambda x: np.where(\n",
    "        x.LinkType == 'daughter',\n",
    "        x.LinkType,\n",
    "        # If the linked company is not a daughter company, it is either the parent company or a partner.\n",
    "        # A parent company has the same seal as the linked company, otherwise it is a partner.\n",
    "        np.where(\n",
    "            x.CompanySeal == x.LinkedSeal,\n",
    "            'parent',\n",
    "            'partner'\n",
    "        )\n",
    "    ))\n",
    "    .drop(columns={'CompanyName_y', 'CompanySeal_y'})\n",
    "    .sort_values(['CompanyName', 'LinkedName'])\n",
    "    .reset_index(drop=True)\n",
    ")"
   ]
  },
  {
   "source": [
    "## Fetching linked providers and URLs from all companies:"
   ],
   "cell_type": "markdown",
   "metadata": {}
  },
  {
   "cell_type": "code",
   "execution_count": 10,
   "metadata": {
    "tags": []
   },
   "outputs": [
    {
     "output_type": "stream",
     "name": "stderr",
     "text": "100%|██████████| 479/479 [37:44&lt;00:00,  4.73s/it]\n"
    }
   ],
   "source": [
    "df = linked_companies.drop_duplicates(subset='LinkedSeal')\n",
    "linked_providers, linked_urls = tuple(pd\n",
    "    .concat(list(t), sort=False)\n",
    "    .drop_duplicates()\n",
    "    .reset_index(drop=True)\n",
    "    # The loop over fetch_providers_and_urls returns a list of pairs of DataFrames.\n",
    "    # The zip(*) operation transposes this into a pair of lists of DataFrames.\n",
    "    for t in zip(*[\n",
    "        mga.fetch_providers_and_urls(company)\n",
    "        for company in tqdm(df.itertuples(), total=df.shape[0])\n",
    "    ])\n",
    ")"
   ]
  },
  {
   "source": [
    "## Inspect the 4 data frames:"
   ],
   "cell_type": "markdown",
   "metadata": {}
  },
  {
   "cell_type": "code",
   "execution_count": 11,
   "metadata": {
    "tags": []
   },
   "outputs": [
    {
     "output_type": "stream",
     "name": "stdout",
     "text": "&lt;class &#39;pandas.core.frame.DataFrame&#39;&gt;\nRangeIndex: 621 entries, 0 to 620\nData columns (total 11 columns):\n #   Column           Non-Null Count  Dtype \n---  ------           --------------  ----- \n 0   CompanyName      621 non-null    object\n 1   LicenceNumber    620 non-null    object\n 2   LicenceClass     621 non-null    object\n 3   RegNumber        613 non-null    object\n 4   CompanySeal      615 non-null    object\n 5   Status           621 non-null    object\n 6   TerminationDate  22 non-null     object\n 7   Platform         3 non-null      object\n 8   Address          528 non-null    object\n 9   Telephone        535 non-null    object\n 10  Email            414 non-null    object\ndtypes: object(11)\nmemory usage: 53.5+ KB\n"
    }
   ],
   "source": [
    "register.info()"
   ]
  },
  {
   "cell_type": "code",
   "execution_count": 12,
   "metadata": {},
   "outputs": [
    {
     "output_type": "execute_result",
     "data": {
      "text/plain": "                  CompanyName     LicenceNumber            LicenceClass  \\\n0  1x2 Network Malta Limited   MGA/CRP/635/2018  Type 1 Gaming Services   \n1         A.B. Europe Limited  MGA/B2C/315/2015  Type 1 Gaming Services   \n2         AG Software Limited  MGA/B2B/147/2007  Type 1 Gaming Services   \n3             ASAP Italia SRL  MGA/B2C/380/2017  Type 4 Gaming Services   \n4           Aha Bingo Limited  MGA/B2C/157/2008  Type 1 Gaming Services   \n\n  RegNumber                           CompanySeal       Status  \\\n0   C 89109  dd45f4e9-1b07-4eb1-96f6-9b62a756bf94     Licensed   \n1   C 73472  b4bf3002-26a4-454a-aa54-4a6f557f50e8  Surrendered   \n2   C 41837  0e4c58b8-3336-48df-a191-f7e2d7a0baad     Licensed   \n3       NaN  84550584-2198-489e-a96a-9f32218e2dc8    Cancelled   \n4   C 43482  9abfae40-796e-4ae4-b962-76cc69d38346  Surrendered   \n\n  TerminationDate Platform                                            Address  \\\n0             NaN      NaN  3, Advance Business Centre,, Triq G.Flores,, S...   \n1             NaN      NaN  Ewropa Business Centre, Level 3 Suite 701,, Du...   \n2             NaN      NaN          135, High Street, Sliema, SLM 1548, Malta   \n3             NaN      NaN  58, Piazza di Villa Cerpegna, Roma RM, 00165, ...   \n4             NaN      NaN  64a Regent House, Bisazza Street, Sliema, SLM ...   \n\n      Telephone                   Email  \n0      99552541  contact@1x2network.com  \n1  +35625496000     service@allbets.com  \n2  +35622484901   info@aspireglobal.com  \n3           NaN                     NaN  \n4  +35621313565       info@ahabingo.com  ",
      "text/html": "<div>\n<style scoped>\n    .dataframe tbody tr th:only-of-type {\n        vertical-align: middle;\n    }\n\n    .dataframe tbody tr th {\n        vertical-align: top;\n    }\n\n    .dataframe thead th {\n        text-align: right;\n    }\n</style>\n<table border=\"1\" class=\"dataframe\">\n  <thead>\n    <tr style=\"text-align: right;\">\n      <th></th>\n      <th>CompanyName</th>\n      <th>LicenceNumber</th>\n      <th>LicenceClass</th>\n      <th>RegNumber</th>\n      <th>CompanySeal</th>\n      <th>Status</th>\n      <th>TerminationDate</th>\n      <th>Platform</th>\n      <th>Address</th>\n      <th>Telephone</th>\n      <th>Email</th>\n    </tr>\n  </thead>\n  <tbody>\n    <tr>\n      <th>0</th>\n      <td>1x2 Network Malta Limited</td>\n      <td>MGA/CRP/635/2018</td>\n      <td>Type 1 Gaming Services</td>\n      <td>C 89109</td>\n      <td>dd45f4e9-1b07-4eb1-96f6-9b62a756bf94</td>\n      <td>Licensed</td>\n      <td>NaN</td>\n      <td>NaN</td>\n      <td>3, Advance Business Centre,, Triq G.Flores,, S...</td>\n      <td>99552541</td>\n      <td>contact@1x2network.com</td>\n    </tr>\n    <tr>\n      <th>1</th>\n      <td>A.B. Europe Limited</td>\n      <td>MGA/B2C/315/2015</td>\n      <td>Type 1 Gaming Services</td>\n      <td>C 73472</td>\n      <td>b4bf3002-26a4-454a-aa54-4a6f557f50e8</td>\n      <td>Surrendered</td>\n      <td>NaN</td>\n      <td>NaN</td>\n      <td>Ewropa Business Centre, Level 3 Suite 701,, Du...</td>\n      <td>+35625496000</td>\n      <td>service@allbets.com</td>\n    </tr>\n    <tr>\n      <th>2</th>\n      <td>AG Software Limited</td>\n      <td>MGA/B2B/147/2007</td>\n      <td>Type 1 Gaming Services</td>\n      <td>C 41837</td>\n      <td>0e4c58b8-3336-48df-a191-f7e2d7a0baad</td>\n      <td>Licensed</td>\n      <td>NaN</td>\n      <td>NaN</td>\n      <td>135, High Street, Sliema, SLM 1548, Malta</td>\n      <td>+35622484901</td>\n      <td>info@aspireglobal.com</td>\n    </tr>\n    <tr>\n      <th>3</th>\n      <td>ASAP Italia SRL</td>\n      <td>MGA/B2C/380/2017</td>\n      <td>Type 4 Gaming Services</td>\n      <td>NaN</td>\n      <td>84550584-2198-489e-a96a-9f32218e2dc8</td>\n      <td>Cancelled</td>\n      <td>NaN</td>\n      <td>NaN</td>\n      <td>58, Piazza di Villa Cerpegna, Roma RM, 00165, ...</td>\n      <td>NaN</td>\n      <td>NaN</td>\n    </tr>\n    <tr>\n      <th>4</th>\n      <td>Aha Bingo Limited</td>\n      <td>MGA/B2C/157/2008</td>\n      <td>Type 1 Gaming Services</td>\n      <td>C 43482</td>\n      <td>9abfae40-796e-4ae4-b962-76cc69d38346</td>\n      <td>Surrendered</td>\n      <td>NaN</td>\n      <td>NaN</td>\n      <td>64a Regent House, Bisazza Street, Sliema, SLM ...</td>\n      <td>+35621313565</td>\n      <td>info@ahabingo.com</td>\n    </tr>\n  </tbody>\n</table>\n</div>"
     },
     "metadata": {},
     "execution_count": 12
    }
   ],
   "source": [
    "register.head()"
   ]
  },
  {
   "cell_type": "code",
   "execution_count": 13,
   "metadata": {},
   "outputs": [
    {
     "output_type": "execute_result",
     "data": {
      "text/plain": "               CompanyName         LicenceNumber            LicenceClass  \\\n616  eSports Media Limited      MGA/B2C/239/2013  Type 2 Gaming Services   \n617   iGamingCloud Limited      MGA/CRP/330/2016  Type 2 Gaming Services   \n618   iGamingCloud Limited      MGA/CRP/330/2016  Type 1 Gaming Services   \n619   iGamingCloud Limited  MGA/CRP/330/2016/Old  Type 2 Gaming Services   \n620      myLotto24 Limited      MGA/CRP/577/2018  Type 1 Gaming Services   \n\n    RegNumber                           CompanySeal       Status  \\\n616   C 59418  d1a0ea97-e7ee-409e-851b-abb7ca4bf78a  Surrendered   \n617   C 48466  14c4e0fd-c65a-4b0c-9e7d-d32828edb11e     Licensed   \n618   C 48466  14c4e0fd-c65a-4b0c-9e7d-d32828edb11e     Licensed   \n619   C 48466  14c4e0fd-c65a-4b0c-9e7d-d32828edb11e     Licensed   \n620  06131579                                   NaN     Licensed   \n\n    TerminationDate Platform  \\\n616             NaN      NaN   \n617             NaN      NaN   \n618             NaN      NaN   \n619             NaN      NaN   \n620             NaN      NaN   \n\n                                               Address       Telephone  \\\n616  Suite A,, Triq Mater Boni Consigli,, Paola, PL...  +3562147483647   \n617  @GIG Beach,, Triq id-dragunara,, St. Julians, ...        27110277   \n618  @GIG Beach,, Triq id-dragunara,, St. Julians, ...        27110277   \n619  @GIG Beach,, Triq id-dragunara,, St. Julians, ...        27110277   \n620  Suite 1, 3rd Floor, 11-12 St. James&#39;s Square, ...     02036666100   \n\n                        Email  \n616    owenmuscat81@gmail.com  \n617              info@gig.com  \n618              info@gig.com  \n619              info@gig.com  \n620  office.lon@sg-tech.co.uk  ",
      "text/html": "<div>\n<style scoped>\n    .dataframe tbody tr th:only-of-type {\n        vertical-align: middle;\n    }\n\n    .dataframe tbody tr th {\n        vertical-align: top;\n    }\n\n    .dataframe thead th {\n        text-align: right;\n    }\n</style>\n<table border=\"1\" class=\"dataframe\">\n  <thead>\n    <tr style=\"text-align: right;\">\n      <th></th>\n      <th>CompanyName</th>\n      <th>LicenceNumber</th>\n      <th>LicenceClass</th>\n      <th>RegNumber</th>\n      <th>CompanySeal</th>\n      <th>Status</th>\n      <th>TerminationDate</th>\n      <th>Platform</th>\n      <th>Address</th>\n      <th>Telephone</th>\n      <th>Email</th>\n    </tr>\n  </thead>\n  <tbody>\n    <tr>\n      <th>616</th>\n      <td>eSports Media Limited</td>\n      <td>MGA/B2C/239/2013</td>\n      <td>Type 2 Gaming Services</td>\n      <td>C 59418</td>\n      <td>d1a0ea97-e7ee-409e-851b-abb7ca4bf78a</td>\n      <td>Surrendered</td>\n      <td>NaN</td>\n      <td>NaN</td>\n      <td>Suite A,, Triq Mater Boni Consigli,, Paola, PL...</td>\n      <td>+3562147483647</td>\n      <td>owenmuscat81@gmail.com</td>\n    </tr>\n    <tr>\n      <th>617</th>\n      <td>iGamingCloud Limited</td>\n      <td>MGA/CRP/330/2016</td>\n      <td>Type 2 Gaming Services</td>\n      <td>C 48466</td>\n      <td>14c4e0fd-c65a-4b0c-9e7d-d32828edb11e</td>\n      <td>Licensed</td>\n      <td>NaN</td>\n      <td>NaN</td>\n      <td>@GIG Beach,, Triq id-dragunara,, St. Julians, ...</td>\n      <td>27110277</td>\n      <td>info@gig.com</td>\n    </tr>\n    <tr>\n      <th>618</th>\n      <td>iGamingCloud Limited</td>\n      <td>MGA/CRP/330/2016</td>\n      <td>Type 1 Gaming Services</td>\n      <td>C 48466</td>\n      <td>14c4e0fd-c65a-4b0c-9e7d-d32828edb11e</td>\n      <td>Licensed</td>\n      <td>NaN</td>\n      <td>NaN</td>\n      <td>@GIG Beach,, Triq id-dragunara,, St. Julians, ...</td>\n      <td>27110277</td>\n      <td>info@gig.com</td>\n    </tr>\n    <tr>\n      <th>619</th>\n      <td>iGamingCloud Limited</td>\n      <td>MGA/CRP/330/2016/Old</td>\n      <td>Type 2 Gaming Services</td>\n      <td>C 48466</td>\n      <td>14c4e0fd-c65a-4b0c-9e7d-d32828edb11e</td>\n      <td>Licensed</td>\n      <td>NaN</td>\n      <td>NaN</td>\n      <td>@GIG Beach,, Triq id-dragunara,, St. Julians, ...</td>\n      <td>27110277</td>\n      <td>info@gig.com</td>\n    </tr>\n    <tr>\n      <th>620</th>\n      <td>myLotto24 Limited</td>\n      <td>MGA/CRP/577/2018</td>\n      <td>Type 1 Gaming Services</td>\n      <td>06131579</td>\n      <td>NaN</td>\n      <td>Licensed</td>\n      <td>NaN</td>\n      <td>NaN</td>\n      <td>Suite 1, 3rd Floor, 11-12 St. James's Square, ...</td>\n      <td>02036666100</td>\n      <td>office.lon@sg-tech.co.uk</td>\n    </tr>\n  </tbody>\n</table>\n</div>"
     },
     "metadata": {},
     "execution_count": 13
    }
   ],
   "source": [
    "register.tail()"
   ]
  },
  {
   "cell_type": "code",
   "execution_count": 14,
   "metadata": {
    "tags": []
   },
   "outputs": [
    {
     "output_type": "stream",
     "name": "stdout",
     "text": "&lt;class &#39;pandas.core.frame.DataFrame&#39;&gt;\nRangeIndex: 576 entries, 0 to 575\nData columns (total 5 columns):\n #   Column       Non-Null Count  Dtype \n---  ------       --------------  ----- \n 0   CompanyName  576 non-null    object\n 1   CompanySeal  576 non-null    object\n 2   LinkedName   576 non-null    object\n 3   LinkedSeal   576 non-null    object\n 4   LinkType     576 non-null    object\ndtypes: object(5)\nmemory usage: 22.6+ KB\n"
    }
   ],
   "source": [
    "linked_companies.info()"
   ]
  },
  {
   "cell_type": "code",
   "execution_count": 15,
   "metadata": {},
   "outputs": [
    {
     "output_type": "execute_result",
     "data": {
      "text/plain": "                  CompanyName                           CompanySeal  \\\n0  1x2 Network Malta Limited   dd45f4e9-1b07-4eb1-96f6-9b62a756bf94   \n1  1x2 Network Malta Limited   dd45f4e9-1b07-4eb1-96f6-9b62a756bf94   \n2         A.B. Europe Limited  b4bf3002-26a4-454a-aa54-4a6f557f50e8   \n3         AG Software Limited  0e4c58b8-3336-48df-a191-f7e2d7a0baad   \n4         AG Software Limited  0e4c58b8-3336-48df-a191-f7e2d7a0baad   \n\n                            LinkedName                            LinkedSeal  \\\n0           1x2 Network Malta Limited   dd45f4e9-1b07-4eb1-96f6-9b62a756bf94   \n1                Football 1x2 Limited   4cb15f0d-8981-42c6-83ce-7f2a19980b62   \n2                  A.B. Europe Limited  b4bf3002-26a4-454a-aa54-4a6f557f50e8   \n3                  AG Software Limited  0e4c58b8-3336-48df-a191-f7e2d7a0baad   \n4  Aspire Global International Limited  b7786557-8ced-40fe-80fe-a5cc0c72c9b0   \n\n   LinkType  \n0    parent  \n1  daughter  \n2    parent  \n3    parent  \n4   partner  ",
      "text/html": "<div>\n<style scoped>\n    .dataframe tbody tr th:only-of-type {\n        vertical-align: middle;\n    }\n\n    .dataframe tbody tr th {\n        vertical-align: top;\n    }\n\n    .dataframe thead th {\n        text-align: right;\n    }\n</style>\n<table border=\"1\" class=\"dataframe\">\n  <thead>\n    <tr style=\"text-align: right;\">\n      <th></th>\n      <th>CompanyName</th>\n      <th>CompanySeal</th>\n      <th>LinkedName</th>\n      <th>LinkedSeal</th>\n      <th>LinkType</th>\n    </tr>\n  </thead>\n  <tbody>\n    <tr>\n      <th>0</th>\n      <td>1x2 Network Malta Limited</td>\n      <td>dd45f4e9-1b07-4eb1-96f6-9b62a756bf94</td>\n      <td>1x2 Network Malta Limited</td>\n      <td>dd45f4e9-1b07-4eb1-96f6-9b62a756bf94</td>\n      <td>parent</td>\n    </tr>\n    <tr>\n      <th>1</th>\n      <td>1x2 Network Malta Limited</td>\n      <td>dd45f4e9-1b07-4eb1-96f6-9b62a756bf94</td>\n      <td>Football 1x2 Limited</td>\n      <td>4cb15f0d-8981-42c6-83ce-7f2a19980b62</td>\n      <td>daughter</td>\n    </tr>\n    <tr>\n      <th>2</th>\n      <td>A.B. Europe Limited</td>\n      <td>b4bf3002-26a4-454a-aa54-4a6f557f50e8</td>\n      <td>A.B. Europe Limited</td>\n      <td>b4bf3002-26a4-454a-aa54-4a6f557f50e8</td>\n      <td>parent</td>\n    </tr>\n    <tr>\n      <th>3</th>\n      <td>AG Software Limited</td>\n      <td>0e4c58b8-3336-48df-a191-f7e2d7a0baad</td>\n      <td>AG Software Limited</td>\n      <td>0e4c58b8-3336-48df-a191-f7e2d7a0baad</td>\n      <td>parent</td>\n    </tr>\n    <tr>\n      <th>4</th>\n      <td>AG Software Limited</td>\n      <td>0e4c58b8-3336-48df-a191-f7e2d7a0baad</td>\n      <td>Aspire Global International Limited</td>\n      <td>b7786557-8ced-40fe-80fe-a5cc0c72c9b0</td>\n      <td>partner</td>\n    </tr>\n  </tbody>\n</table>\n</div>"
     },
     "metadata": {},
     "execution_count": 15
    }
   ],
   "source": [
    "linked_companies.head()"
   ]
  },
  {
   "cell_type": "code",
   "execution_count": 16,
   "metadata": {},
   "outputs": [
    {
     "output_type": "execute_result",
     "data": {
      "text/plain": "                             CompanyName  \\\n571  bwin.party services (Malta) Limited   \n572                   eGamingLab Limited   \n573                eSports Media Limited   \n574                 iGamingCloud Limited   \n575                 iGamingCloud Limited   \n\n                              CompanySeal  \\\n571  3cac393c-6f75-4697-9bc4-164b819a32ec   \n572  87b51d7d-88d3-4a97-aec9-c438be073e3b   \n573  d1a0ea97-e7ee-409e-851b-abb7ca4bf78a   \n574  14c4e0fd-c65a-4b0c-9e7d-d32828edb11e   \n575  14c4e0fd-c65a-4b0c-9e7d-d32828edb11e   \n\n                              LinkedName  \\\n571  bwin.party services (Malta) Limited   \n572                   eGamingLab Limited   \n573                eSports Media Limited   \n574                 BettingCloud Limited   \n575                 iGamingCloud Limited   \n\n                               LinkedSeal  LinkType  \n571  3cac393c-6f75-4697-9bc4-164b819a32ec    parent  \n572  87b51d7d-88d3-4a97-aec9-c438be073e3b    parent  \n573  d1a0ea97-e7ee-409e-851b-abb7ca4bf78a    parent  \n574  4d0d00a4-f48d-44cd-a2c3-b8df41a0f560  daughter  \n575  14c4e0fd-c65a-4b0c-9e7d-d32828edb11e    parent  ",
      "text/html": "<div>\n<style scoped>\n    .dataframe tbody tr th:only-of-type {\n        vertical-align: middle;\n    }\n\n    .dataframe tbody tr th {\n        vertical-align: top;\n    }\n\n    .dataframe thead th {\n        text-align: right;\n    }\n</style>\n<table border=\"1\" class=\"dataframe\">\n  <thead>\n    <tr style=\"text-align: right;\">\n      <th></th>\n      <th>CompanyName</th>\n      <th>CompanySeal</th>\n      <th>LinkedName</th>\n      <th>LinkedSeal</th>\n      <th>LinkType</th>\n    </tr>\n  </thead>\n  <tbody>\n    <tr>\n      <th>571</th>\n      <td>bwin.party services (Malta) Limited</td>\n      <td>3cac393c-6f75-4697-9bc4-164b819a32ec</td>\n      <td>bwin.party services (Malta) Limited</td>\n      <td>3cac393c-6f75-4697-9bc4-164b819a32ec</td>\n      <td>parent</td>\n    </tr>\n    <tr>\n      <th>572</th>\n      <td>eGamingLab Limited</td>\n      <td>87b51d7d-88d3-4a97-aec9-c438be073e3b</td>\n      <td>eGamingLab Limited</td>\n      <td>87b51d7d-88d3-4a97-aec9-c438be073e3b</td>\n      <td>parent</td>\n    </tr>\n    <tr>\n      <th>573</th>\n      <td>eSports Media Limited</td>\n      <td>d1a0ea97-e7ee-409e-851b-abb7ca4bf78a</td>\n      <td>eSports Media Limited</td>\n      <td>d1a0ea97-e7ee-409e-851b-abb7ca4bf78a</td>\n      <td>parent</td>\n    </tr>\n    <tr>\n      <th>574</th>\n      <td>iGamingCloud Limited</td>\n      <td>14c4e0fd-c65a-4b0c-9e7d-d32828edb11e</td>\n      <td>BettingCloud Limited</td>\n      <td>4d0d00a4-f48d-44cd-a2c3-b8df41a0f560</td>\n      <td>daughter</td>\n    </tr>\n    <tr>\n      <th>575</th>\n      <td>iGamingCloud Limited</td>\n      <td>14c4e0fd-c65a-4b0c-9e7d-d32828edb11e</td>\n      <td>iGamingCloud Limited</td>\n      <td>14c4e0fd-c65a-4b0c-9e7d-d32828edb11e</td>\n      <td>parent</td>\n    </tr>\n  </tbody>\n</table>\n</div>"
     },
     "metadata": {},
     "execution_count": 16
    }
   ],
   "source": [
    "linked_companies.tail()"
   ]
  },
  {
   "cell_type": "code",
   "execution_count": 17,
   "metadata": {
    "tags": []
   },
   "outputs": [
    {
     "output_type": "stream",
     "name": "stdout",
     "text": "&lt;class &#39;pandas.core.frame.DataFrame&#39;&gt;\nRangeIndex: 2585 entries, 0 to 2584\nData columns (total 6 columns):\n #   Column           Non-Null Count  Dtype \n---  ------           --------------  ----- \n 0   LinkedName       2585 non-null   object\n 1   LinkedSeal       2585 non-null   object\n 2   LicenceNumber    2585 non-null   object\n 3   LicenceClass     2585 non-null   object\n 4   ProviderName     2585 non-null   object\n 5   ProviderLicence  2585 non-null   object\ndtypes: object(6)\nmemory usage: 121.3+ KB\n"
    }
   ],
   "source": [
    "linked_providers.info()"
   ]
  },
  {
   "cell_type": "code",
   "execution_count": 18,
   "metadata": {},
   "outputs": [
    {
     "output_type": "execute_result",
     "data": {
      "text/plain": "                   LinkedName                            LinkedSeal  \\\n0  1x2 Network Malta Limited   dd45f4e9-1b07-4eb1-96f6-9b62a756bf94   \n1  1x2 Network Malta Limited   dd45f4e9-1b07-4eb1-96f6-9b62a756bf94   \n2       Football 1x2 Limited   4cb15f0d-8981-42c6-83ce-7f2a19980b62   \n3       Football 1x2 Limited   4cb15f0d-8981-42c6-83ce-7f2a19980b62   \n4         AG Software Limited  0e4c58b8-3336-48df-a191-f7e2d7a0baad   \n\n          LicenceNumber            LicenceClass  \\\n0      MGA/CRP/635/2018  Type 1 Gaming Services   \n1      MGA/CRP/635/2018  Type 1 Gaming Services   \n2  MGA/CRP/635/2018- 01  Type 1 Gaming Services   \n3  MGA/CRP/635/2018- 01  Type 1 Gaming Services   \n4      MGA/B2B/147/2007  Type 1 Gaming Services   \n\n                    ProviderName   ProviderLicence  \n0  Pocket Games Software Limited  MGA/B2B/435/2017  \n1            Oryx Gaming Limited  MGA/B2B/298/2015  \n2  Pocket Games Software Limited  MGA/B2B/435/2017  \n3            Oryx Gaming Limited  MGA/B2B/298/2015  \n4            AG Software Limited  MGA/B2B/147/2007  ",
      "text/html": "<div>\n<style scoped>\n    .dataframe tbody tr th:only-of-type {\n        vertical-align: middle;\n    }\n\n    .dataframe tbody tr th {\n        vertical-align: top;\n    }\n\n    .dataframe thead th {\n        text-align: right;\n    }\n</style>\n<table border=\"1\" class=\"dataframe\">\n  <thead>\n    <tr style=\"text-align: right;\">\n      <th></th>\n      <th>LinkedName</th>\n      <th>LinkedSeal</th>\n      <th>LicenceNumber</th>\n      <th>LicenceClass</th>\n      <th>ProviderName</th>\n      <th>ProviderLicence</th>\n    </tr>\n  </thead>\n  <tbody>\n    <tr>\n      <th>0</th>\n      <td>1x2 Network Malta Limited</td>\n      <td>dd45f4e9-1b07-4eb1-96f6-9b62a756bf94</td>\n      <td>MGA/CRP/635/2018</td>\n      <td>Type 1 Gaming Services</td>\n      <td>Pocket Games Software Limited</td>\n      <td>MGA/B2B/435/2017</td>\n    </tr>\n    <tr>\n      <th>1</th>\n      <td>1x2 Network Malta Limited</td>\n      <td>dd45f4e9-1b07-4eb1-96f6-9b62a756bf94</td>\n      <td>MGA/CRP/635/2018</td>\n      <td>Type 1 Gaming Services</td>\n      <td>Oryx Gaming Limited</td>\n      <td>MGA/B2B/298/2015</td>\n    </tr>\n    <tr>\n      <th>2</th>\n      <td>Football 1x2 Limited</td>\n      <td>4cb15f0d-8981-42c6-83ce-7f2a19980b62</td>\n      <td>MGA/CRP/635/2018- 01</td>\n      <td>Type 1 Gaming Services</td>\n      <td>Pocket Games Software Limited</td>\n      <td>MGA/B2B/435/2017</td>\n    </tr>\n    <tr>\n      <th>3</th>\n      <td>Football 1x2 Limited</td>\n      <td>4cb15f0d-8981-42c6-83ce-7f2a19980b62</td>\n      <td>MGA/CRP/635/2018- 01</td>\n      <td>Type 1 Gaming Services</td>\n      <td>Oryx Gaming Limited</td>\n      <td>MGA/B2B/298/2015</td>\n    </tr>\n    <tr>\n      <th>4</th>\n      <td>AG Software Limited</td>\n      <td>0e4c58b8-3336-48df-a191-f7e2d7a0baad</td>\n      <td>MGA/B2B/147/2007</td>\n      <td>Type 1 Gaming Services</td>\n      <td>AG Software Limited</td>\n      <td>MGA/B2B/147/2007</td>\n    </tr>\n  </tbody>\n</table>\n</div>"
     },
     "metadata": {},
     "execution_count": 18
    }
   ],
   "source": [
    "linked_providers.head()"
   ]
  },
  {
   "cell_type": "code",
   "execution_count": 19,
   "metadata": {},
   "outputs": [
    {
     "output_type": "execute_result",
     "data": {
      "text/plain": "                LinkedName                            LinkedSeal  \\\n2580    eGamingLab Limited  87b51d7d-88d3-4a97-aec9-c438be073e3b   \n2581  BettingCloud Limited  4d0d00a4-f48d-44cd-a2c3-b8df41a0f560   \n2582  BettingCloud Limited  4d0d00a4-f48d-44cd-a2c3-b8df41a0f560   \n2583  iGamingCloud Limited  14c4e0fd-c65a-4b0c-9e7d-d32828edb11e   \n2584  iGamingCloud Limited  14c4e0fd-c65a-4b0c-9e7d-d32828edb11e   \n\n             LicenceNumber            LicenceClass ProviderName  \\\n2580      MGA/B2C/221/2012  Type 2 Gaming Services                \n2581  MGA/CRP/330/2016- 01  Type 2 Gaming Services                \n2582  MGA/CRP/330/2016- 01  Type 1 Gaming Services                \n2583      MGA/CRP/330/2016  Type 2 Gaming Services                \n2584      MGA/CRP/330/2016  Type 1 Gaming Services                \n\n     ProviderLicence  \n2580                  \n2581                  \n2582                  \n2583                  \n2584                  ",
      "text/html": "<div>\n<style scoped>\n    .dataframe tbody tr th:only-of-type {\n        vertical-align: middle;\n    }\n\n    .dataframe tbody tr th {\n        vertical-align: top;\n    }\n\n    .dataframe thead th {\n        text-align: right;\n    }\n</style>\n<table border=\"1\" class=\"dataframe\">\n  <thead>\n    <tr style=\"text-align: right;\">\n      <th></th>\n      <th>LinkedName</th>\n      <th>LinkedSeal</th>\n      <th>LicenceNumber</th>\n      <th>LicenceClass</th>\n      <th>ProviderName</th>\n      <th>ProviderLicence</th>\n    </tr>\n  </thead>\n  <tbody>\n    <tr>\n      <th>2580</th>\n      <td>eGamingLab Limited</td>\n      <td>87b51d7d-88d3-4a97-aec9-c438be073e3b</td>\n      <td>MGA/B2C/221/2012</td>\n      <td>Type 2 Gaming Services</td>\n      <td></td>\n      <td></td>\n    </tr>\n    <tr>\n      <th>2581</th>\n      <td>BettingCloud Limited</td>\n      <td>4d0d00a4-f48d-44cd-a2c3-b8df41a0f560</td>\n      <td>MGA/CRP/330/2016- 01</td>\n      <td>Type 2 Gaming Services</td>\n      <td></td>\n      <td></td>\n    </tr>\n    <tr>\n      <th>2582</th>\n      <td>BettingCloud Limited</td>\n      <td>4d0d00a4-f48d-44cd-a2c3-b8df41a0f560</td>\n      <td>MGA/CRP/330/2016- 01</td>\n      <td>Type 1 Gaming Services</td>\n      <td></td>\n      <td></td>\n    </tr>\n    <tr>\n      <th>2583</th>\n      <td>iGamingCloud Limited</td>\n      <td>14c4e0fd-c65a-4b0c-9e7d-d32828edb11e</td>\n      <td>MGA/CRP/330/2016</td>\n      <td>Type 2 Gaming Services</td>\n      <td></td>\n      <td></td>\n    </tr>\n    <tr>\n      <th>2584</th>\n      <td>iGamingCloud Limited</td>\n      <td>14c4e0fd-c65a-4b0c-9e7d-d32828edb11e</td>\n      <td>MGA/CRP/330/2016</td>\n      <td>Type 1 Gaming Services</td>\n      <td></td>\n      <td></td>\n    </tr>\n  </tbody>\n</table>\n</div>"
     },
     "metadata": {},
     "execution_count": 19
    }
   ],
   "source": [
    "linked_providers.tail()"
   ]
  },
  {
   "cell_type": "code",
   "execution_count": 20,
   "metadata": {
    "tags": []
   },
   "outputs": [
    {
     "output_type": "stream",
     "name": "stdout",
     "text": "&lt;class &#39;pandas.core.frame.DataFrame&#39;&gt;\nRangeIndex: 1265 entries, 0 to 1264\nData columns (total 3 columns):\n #   Column      Non-Null Count  Dtype \n---  ------      --------------  ----- \n 0   LinkedName  1265 non-null   object\n 1   LinkedSeal  1265 non-null   object\n 2   URL         1265 non-null   object\ndtypes: object(3)\nmemory usage: 29.8+ KB\n"
    }
   ],
   "source": [
    "linked_urls.info()"
   ]
  },
  {
   "cell_type": "code",
   "execution_count": 21,
   "metadata": {},
   "outputs": [
    {
     "output_type": "execute_result",
     "data": {
      "text/plain": "                            LinkedName                            LinkedSeal  \\\n0                  A.B. Europe Limited  b4bf3002-26a4-454a-aa54-4a6f557f50e8   \n1                  A.B. Europe Limited  b4bf3002-26a4-454a-aa54-4a6f557f50e8   \n2  Aspire Global International Limited  b7786557-8ced-40fe-80fe-a5cc0c72c9b0   \n3  Aspire Global International Limited  b7786557-8ced-40fe-80fe-a5cc0c72c9b0   \n4  Aspire Global International Limited  b7786557-8ced-40fe-80fe-a5cc0c72c9b0   \n\n                             URL  \n0          http://www.allbets.me  \n1        http://www.allbetme.com  \n2  https://www.agentspinner.com/  \n3     https://www.queenplay.com/  \n4   https://www.tradacasino.com/  ",
      "text/html": "<div>\n<style scoped>\n    .dataframe tbody tr th:only-of-type {\n        vertical-align: middle;\n    }\n\n    .dataframe tbody tr th {\n        vertical-align: top;\n    }\n\n    .dataframe thead th {\n        text-align: right;\n    }\n</style>\n<table border=\"1\" class=\"dataframe\">\n  <thead>\n    <tr style=\"text-align: right;\">\n      <th></th>\n      <th>LinkedName</th>\n      <th>LinkedSeal</th>\n      <th>URL</th>\n    </tr>\n  </thead>\n  <tbody>\n    <tr>\n      <th>0</th>\n      <td>A.B. Europe Limited</td>\n      <td>b4bf3002-26a4-454a-aa54-4a6f557f50e8</td>\n      <td>http://www.allbets.me</td>\n    </tr>\n    <tr>\n      <th>1</th>\n      <td>A.B. Europe Limited</td>\n      <td>b4bf3002-26a4-454a-aa54-4a6f557f50e8</td>\n      <td>http://www.allbetme.com</td>\n    </tr>\n    <tr>\n      <th>2</th>\n      <td>Aspire Global International Limited</td>\n      <td>b7786557-8ced-40fe-80fe-a5cc0c72c9b0</td>\n      <td>https://www.agentspinner.com/</td>\n    </tr>\n    <tr>\n      <th>3</th>\n      <td>Aspire Global International Limited</td>\n      <td>b7786557-8ced-40fe-80fe-a5cc0c72c9b0</td>\n      <td>https://www.queenplay.com/</td>\n    </tr>\n    <tr>\n      <th>4</th>\n      <td>Aspire Global International Limited</td>\n      <td>b7786557-8ced-40fe-80fe-a5cc0c72c9b0</td>\n      <td>https://www.tradacasino.com/</td>\n    </tr>\n  </tbody>\n</table>\n</div>"
     },
     "metadata": {},
     "execution_count": 21
    }
   ],
   "source": [
    "linked_urls.head()"
   ]
  },
  {
   "cell_type": "code",
   "execution_count": 22,
   "metadata": {},
   "outputs": [
    {
     "output_type": "execute_result",
     "data": {
      "text/plain": "                 LinkedName                            LinkedSeal  \\\n1260     eGamingLab Limited  87b51d7d-88d3-4a97-aec9-c438be073e3b   \n1261     eGamingLab Limited  87b51d7d-88d3-4a97-aec9-c438be073e3b   \n1262     eGamingLab Limited  87b51d7d-88d3-4a97-aec9-c438be073e3b   \n1263     eGamingLab Limited  87b51d7d-88d3-4a97-aec9-c438be073e3b   \n1264  eSports Media Limited  d1a0ea97-e7ee-409e-851b-abb7ca4bf78a   \n\n                                 URL  \n1260  http://www.islandlotteries.com  \n1261           http://www.jetbet.net  \n1262        http://www.betsocial.net  \n1263       http://www.dragonbet8.com  \n1264   http://www.esportsventure.com  ",
      "text/html": "<div>\n<style scoped>\n    .dataframe tbody tr th:only-of-type {\n        vertical-align: middle;\n    }\n\n    .dataframe tbody tr th {\n        vertical-align: top;\n    }\n\n    .dataframe thead th {\n        text-align: right;\n    }\n</style>\n<table border=\"1\" class=\"dataframe\">\n  <thead>\n    <tr style=\"text-align: right;\">\n      <th></th>\n      <th>LinkedName</th>\n      <th>LinkedSeal</th>\n      <th>URL</th>\n    </tr>\n  </thead>\n  <tbody>\n    <tr>\n      <th>1260</th>\n      <td>eGamingLab Limited</td>\n      <td>87b51d7d-88d3-4a97-aec9-c438be073e3b</td>\n      <td>http://www.islandlotteries.com</td>\n    </tr>\n    <tr>\n      <th>1261</th>\n      <td>eGamingLab Limited</td>\n      <td>87b51d7d-88d3-4a97-aec9-c438be073e3b</td>\n      <td>http://www.jetbet.net</td>\n    </tr>\n    <tr>\n      <th>1262</th>\n      <td>eGamingLab Limited</td>\n      <td>87b51d7d-88d3-4a97-aec9-c438be073e3b</td>\n      <td>http://www.betsocial.net</td>\n    </tr>\n    <tr>\n      <th>1263</th>\n      <td>eGamingLab Limited</td>\n      <td>87b51d7d-88d3-4a97-aec9-c438be073e3b</td>\n      <td>http://www.dragonbet8.com</td>\n    </tr>\n    <tr>\n      <th>1264</th>\n      <td>eSports Media Limited</td>\n      <td>d1a0ea97-e7ee-409e-851b-abb7ca4bf78a</td>\n      <td>http://www.esportsventure.com</td>\n    </tr>\n  </tbody>\n</table>\n</div>"
     },
     "metadata": {},
     "execution_count": 22
    }
   ],
   "source": [
    "linked_urls.tail()"
   ]
  },
  {
   "cell_type": "code",
   "execution_count": null,
   "metadata": {},
   "outputs": [],
   "source": []
  }
 ]
}