{
 "metadata": {
  "language_info": {
   "codemirror_mode": {
    "name": "ipython",
    "version": 3
   },
   "file_extension": ".py",
   "mimetype": "text/x-python",
   "name": "python",
   "nbconvert_exporter": "python",
   "pygments_lexer": "ipython3",
   "version": "3.8.2-final"
  },
  "orig_nbformat": 2,
  "kernelspec": {
   "name": "Python 3.8.2 64-bit ('.env': venv)",
   "display_name": "Python 3.8.2 64-bit ('.env': venv)",
   "metadata": {
    "interpreter": {
     "hash": "688204a0fbcb17537bba0246e451e2e38b7531049936a9be696b0802eda87015"
    }
   }
  }
 },
 "nbformat": 4,
 "nbformat_minor": 2,
 "cells": [
  {
   "source": [
    "```\n",
    "         Copyright Rein Halbersma 2020.\n",
    "Distributed under the Boost Software License, Version 1.0.\n",
    "   (See accompanying file LICENSE_1_0.txt or copy at\n",
    "         http://www.boost.org/LICENSE_1_0.txt)\n",
    "```"
   ],
   "cell_type": "markdown",
   "metadata": {}
  },
  {
   "source": [
    "# Re-implementing Marcel Wieting's [Code Review Stack Exchange post](https://codereview.stackexchange.com/questions/239521/performance-read-large-amount-of-xmls-and-load-into-single-csv)\n"
   ],
   "cell_type": "markdown",
   "metadata": {}
  },
  {
   "cell_type": "code",
   "execution_count": 1,
   "metadata": {},
   "outputs": [],
   "source": [
    "import os\n",
    "\n",
    "import pandas as pd\n",
    "from tqdm import tqdm\n",
    "\n",
    "import scrape.nct as nct"
   ]
  },
  {
   "cell_type": "code",
   "execution_count": 2,
   "metadata": {},
   "outputs": [],
   "source": [
    "# https://clinicaltrials.gov/ct2/resources/download#DownloadAllData\n",
    "nct_url = 'https://clinicaltrials.gov/AllPublicXML.zip'\n",
    "file = nct_url.split('/')[-1]\n",
    "path = file.split('.')[0]"
   ]
  },
  {
   "cell_type": "code",
   "execution_count": 3,
   "metadata": {
    "tags": []
   },
   "outputs": [
    {
     "output_type": "stream",
     "name": "stderr",
     "text": "100%|██████████| 1558/1558 [03:47&lt;00:00,  6.83it/s]\n"
    }
   ],
   "source": [
    "nct.download_data(nct_url, file)    # 1.6 Gb on disk"
   ]
  },
  {
   "cell_type": "code",
   "execution_count": 4,
   "metadata": {},
   "outputs": [],
   "source": [
    "nct.unzip_data(file, path)  # 8.5 Gb on disk"
   ]
  },
  {
   "cell_type": "code",
   "execution_count": 5,
   "metadata": {},
   "outputs": [],
   "source": [
    "xml_files = [\n",
    "    os.path.join(dirpath, file)\n",
    "    for dirpath, _, filenames in os.walk(path)\n",
    "    for file in filenames\n",
    "    if file.endswith('.xml')\n",
    "]"
   ]
  },
  {
   "cell_type": "code",
   "execution_count": 6,
   "metadata": {
    "tags": []
   },
   "outputs": [
    {
     "output_type": "stream",
     "name": "stderr",
     "text": "100%|██████████| 353491/353491 [16:50&lt;00:00, 349.81it/s]\n"
    }
   ],
   "source": [
    "df = pd.concat((\n",
    "    nct.parse_xml(file)\n",
    "    for file in tqdm(xml_files)\n",
    "))"
   ]
  },
  {
   "cell_type": "code",
   "execution_count": 7,
   "metadata": {
    "tags": []
   },
   "outputs": [
    {
     "output_type": "stream",
     "name": "stdout",
     "text": "&lt;class &#39;pandas.core.frame.DataFrame&#39;&gt;\nInt64Index: 103541358 entries, 0 to 139\nData columns (total 3 columns):\n #   Column  Dtype \n---  ------  ----- \n 0   id      int64 \n 1   key     object\n 2   value   object\ndtypes: int64(1), object(2)\nmemory usage: 3.1+ GB\n"
    }
   ],
   "source": [
    "df.info()   # 3.0 Gb in memory, 12.0 Gb on disk"
   ]
  },
  {
   "cell_type": "code",
   "execution_count": 8,
   "metadata": {},
   "outputs": [
    {
     "output_type": "execute_result",
     "data": {
      "text/plain": "        id                                            key  \\\n0  4271358                                /clinical_study   \n1  4271358                   /clinical_study/comment()[1]   \n2  4271358                /clinical_study/required_header   \n3  4271358  /clinical_study/required_header/download_date   \n4  4271358      /clinical_study/required_header/link_text   \n\n                                               value  \n0                                               \\n    \n1   This xml conforms to an XML Schema at:\\n    h...  \n2                                             \\n      \n3  ClinicalTrials.gov processed this data on Octo...  \n4     Link to the current ClinicalTrials.gov record.  ",
      "text/html": "<div>\n<style scoped>\n    .dataframe tbody tr th:only-of-type {\n        vertical-align: middle;\n    }\n\n    .dataframe tbody tr th {\n        vertical-align: top;\n    }\n\n    .dataframe thead th {\n        text-align: right;\n    }\n</style>\n<table border=\"1\" class=\"dataframe\">\n  <thead>\n    <tr style=\"text-align: right;\">\n      <th></th>\n      <th>id</th>\n      <th>key</th>\n      <th>value</th>\n    </tr>\n  </thead>\n  <tbody>\n    <tr>\n      <th>0</th>\n      <td>4271358</td>\n      <td>/clinical_study</td>\n      <td>\\n</td>\n    </tr>\n    <tr>\n      <th>1</th>\n      <td>4271358</td>\n      <td>/clinical_study/comment()[1]</td>\n      <td>This xml conforms to an XML Schema at:\\n    h...</td>\n    </tr>\n    <tr>\n      <th>2</th>\n      <td>4271358</td>\n      <td>/clinical_study/required_header</td>\n      <td>\\n</td>\n    </tr>\n    <tr>\n      <th>3</th>\n      <td>4271358</td>\n      <td>/clinical_study/required_header/download_date</td>\n      <td>ClinicalTrials.gov processed this data on Octo...</td>\n    </tr>\n    <tr>\n      <th>4</th>\n      <td>4271358</td>\n      <td>/clinical_study/required_header/link_text</td>\n      <td>Link to the current ClinicalTrials.gov record.</td>\n    </tr>\n  </tbody>\n</table>\n</div>"
     },
     "metadata": {},
     "execution_count": 8
    }
   ],
   "source": [
    "df.head()"
   ]
  },
  {
   "cell_type": "code",
   "execution_count": 9,
   "metadata": {},
   "outputs": [
    {
     "output_type": "execute_result",
     "data": {
      "text/plain": "          id                                            key  \\\n135  2808104  /clinical_study/intervention_browse/comment()   \n136  2808104  /clinical_study/intervention_browse/mesh_term   \n137  2808104                   /clinical_study/patient_data   \n138  2808104       /clinical_study/patient_data/sharing_ipd   \n139  2808104                   /clinical_study/comment()[2]   \n\n                                                 value  \n135   CAUTION:  The following MeSH terms are assign...  \n136                                           Mazindol  \n137                                             \\n      \n138                                          Undecided  \n139   Results have not yet been posted for this stu...  ",
      "text/html": "<div>\n<style scoped>\n    .dataframe tbody tr th:only-of-type {\n        vertical-align: middle;\n    }\n\n    .dataframe tbody tr th {\n        vertical-align: top;\n    }\n\n    .dataframe thead th {\n        text-align: right;\n    }\n</style>\n<table border=\"1\" class=\"dataframe\">\n  <thead>\n    <tr style=\"text-align: right;\">\n      <th></th>\n      <th>id</th>\n      <th>key</th>\n      <th>value</th>\n    </tr>\n  </thead>\n  <tbody>\n    <tr>\n      <th>135</th>\n      <td>2808104</td>\n      <td>/clinical_study/intervention_browse/comment()</td>\n      <td>CAUTION:  The following MeSH terms are assign...</td>\n    </tr>\n    <tr>\n      <th>136</th>\n      <td>2808104</td>\n      <td>/clinical_study/intervention_browse/mesh_term</td>\n      <td>Mazindol</td>\n    </tr>\n    <tr>\n      <th>137</th>\n      <td>2808104</td>\n      <td>/clinical_study/patient_data</td>\n      <td>\\n</td>\n    </tr>\n    <tr>\n      <th>138</th>\n      <td>2808104</td>\n      <td>/clinical_study/patient_data/sharing_ipd</td>\n      <td>Undecided</td>\n    </tr>\n    <tr>\n      <th>139</th>\n      <td>2808104</td>\n      <td>/clinical_study/comment()[2]</td>\n      <td>Results have not yet been posted for this stu...</td>\n    </tr>\n  </tbody>\n</table>\n</div>"
     },
     "metadata": {},
     "execution_count": 9
    }
   ],
   "source": [
    "df.tail()"
   ]
  }
 ]
}